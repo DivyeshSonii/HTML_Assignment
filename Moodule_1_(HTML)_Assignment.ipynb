{
 "cells": [
  {
   "cell_type": "code",
   "execution_count": 3,
   "id": "2fbaddcf",
   "metadata": {},
   "outputs": [],
   "source": [
    "# [1] Are the HTML tags and elements the same thing?\n",
    "\n",
    "# A word written with an angle bracket is known as tag, ex. <>.\n",
    "# HTML tags are buildings blocks of HTML page. \n",
    "# They are usually exist in pairs containing of a starting & ending tag. However, some tags are self closing tags.\n",
    "\n",
    "# A word written between angle bracket is known as element, ex. <html>\n",
    "# HTML elments are components that are used in HTML page."
   ]
  },
  {
   "cell_type": "code",
   "execution_count": 5,
   "id": "2bb5ca8a",
   "metadata": {},
   "outputs": [],
   "source": [
    "# [2] What are tags and attributes in HTML?\n",
    "\n",
    "# In HTML, tag is a way of representing an HTML element in the program.\n",
    "# Specific tag is used for specific purpose.\n",
    "\n",
    "# Attribute is an additional functionality.\n",
    "# Attribute provides additional information about elements. They are always specified in starting tag.\n",
    "# ex: name=\"value\""
   ]
  },
  {
   "cell_type": "code",
   "execution_count": null,
   "id": "2f49d73b",
   "metadata": {},
   "outputs": [],
   "source": [
    "# [3] What are void elements in HTML?\n",
    "\n",
    "# A void element is an element whose content model never allows it to have contents under any circumstances. \n",
    "# Void elements can have attributes.\n",
    "\n",
    "# The following is a complete list of the void elements in HTML:\n",
    "# area, base, br, col, command, embed, hr, img, input, keygen, link, meta, param, source, track, wbr\n",
    "\n",
    "# Void elements only have a start tag; end tags must not be specified for void elements."
   ]
  },
  {
   "cell_type": "code",
   "execution_count": null,
   "id": "0735c854",
   "metadata": {},
   "outputs": [],
   "source": [
    "# [4] What are HTML Entities?\n",
    "\n",
    "# Entities are frequently used to display reserved and invisible characters,\n",
    "# which would otherwise be interpreted as HTML code.\n",
    "# HTML entity text begins with an (&)ampersand & ends with (;)semicolon.`"
   ]
  },
  {
   "cell_type": "code",
   "execution_count": null,
   "id": "4689bcbd",
   "metadata": {},
   "outputs": [],
   "source": [
    "# [5] What are different types of lists in HTML?\n",
    "\n",
    "# 1. Unordered list - <ul> and <li>\n",
    "# 2. Ordered list - <ol> and <li>\n",
    "# 3. Description list - <dl>, <dt> and <dd>"
   ]
  },
  {
   "cell_type": "code",
   "execution_count": null,
   "id": "e7bd59bd",
   "metadata": {},
   "outputs": [],
   "source": [
    "# [6] What is the ‘class’ attribute in HTML?\n",
    "\n",
    "# HTML Class attribute collectively represents a group of elements on a DOM. \n",
    "# Multiple elements may have the same class."
   ]
  },
  {
   "cell_type": "code",
   "execution_count": null,
   "id": "c52a9bfc",
   "metadata": {},
   "outputs": [],
   "source": [
    "# [7] What is the difference between the ‘id’ attribute and the ‘class’ attribute of HTML elements?\n",
    "\n",
    "# The HTML ID attribute is used to uniquely identify an element on a DOM. No two elements on a page can have the same IDs.\n",
    "# HTML Class attribute collectively represents a group of elements on a DOM. Multiple elements may have the same class."
   ]
  },
  {
   "cell_type": "code",
   "execution_count": null,
   "id": "3dd5f479",
   "metadata": {},
   "outputs": [],
   "source": [
    "# [8] What are the various formatting tags in HTML?\n",
    "\n",
    "# <b>, <strong>, <i>, <em>, <mark>, <u>, <tt>, <strike>, <sup>, <sub>, <del>, <ins>, <big>, <small>"
   ]
  },
  {
   "cell_type": "code",
   "execution_count": null,
   "id": "44c7325e",
   "metadata": {},
   "outputs": [],
   "source": [
    "# [9] How is Cell Padding different from Cell Spacing?\n",
    "\n",
    "# Cellpadding basically defines the space present between a table cell's border and the content present in it.\n",
    "# Cellspacing basically defines the space present between individual adjacent cells."
   ]
  },
  {
   "cell_type": "code",
   "execution_count": 6,
   "id": "94036246",
   "metadata": {},
   "outputs": [],
   "source": [
    "# [10] How can we club two or more rows or columns into a single row or column in an HTML table?\n",
    "\n",
    "# To merege tow or more column use colspan attribute.\n",
    "# To merge two ore more row use rowspan attributr.\n",
    "# Both the attributes used in only <td> or <th> tag."
   ]
  },
  {
   "cell_type": "code",
   "execution_count": null,
   "id": "7d6ed735",
   "metadata": {},
   "outputs": [],
   "source": [
    "# [11] What is the difference between a block-level element and an inline element?\n",
    "\n",
    "# A block-level element always starts on a new line, and the browsers automatically add some space (a margin) before and after the element.\n",
    "# A block-level element always takes up the full width available.\n",
    "# Two commonly used block elements are: <p> and <div>.\n",
    "\n",
    "# An inline element does not start on a new line.\n",
    "# An inline element only takes up as much width as necessary.\n",
    "# This is a <span> element inside a paragraph"
   ]
  },
  {
   "cell_type": "code",
   "execution_count": null,
   "id": "46ee44ac",
   "metadata": {},
   "outputs": [],
   "source": [
    "# [12] How to create a Hyperlink in HTML?\n",
    "\n",
    "# Use anchor tag <a> and use href attribute.\n",
    "# ex: <a href=\"url\">Link Text</a>"
   ]
  },
  {
   "cell_type": "code",
   "execution_count": null,
   "id": "78c911a7",
   "metadata": {},
   "outputs": [],
   "source": [
    "# [13] What is the use of an iframe tag?\n",
    "\n",
    "# The <iframe> tag specifies an inline frame.\n",
    "# An inline frame is used to embed another document within the current HTML document.\n",
    "# ex: \n",
    "# <iframe src=\"https://www.google.com/maps/embed?pb=!1........\"></iframe>\">"
   ]
  },
  {
   "cell_type": "code",
   "execution_count": null,
   "id": "eaefdc80",
   "metadata": {},
   "outputs": [],
   "source": [
    "# [14] What is the use of a span tag? Explain with example?\n",
    "\n",
    "# The <span> tag is an inline element.\n",
    "# The <span> tag is an inline container used to mark up a part of a text, or a part of a document.\n",
    "# The <span> tag is easily styled by CSS or manipulated with JavaScript using the class or id attribute.\n",
    "# ex: <p>My mother has <span style=\"color:blue\">blue</span> eyes.</p>"
   ]
  },
  {
   "cell_type": "code",
   "execution_count": null,
   "id": "11b1fa4c",
   "metadata": {},
   "outputs": [],
   "source": [
    "# [15] How to insert a picture into a background image of a web page?\n",
    "\n",
    "# using internal or external css property.\n",
    "# ex: \n",
    "#    <style>\n",
    "#        body{\n",
    "#            background-image: url(img1.jpg);\n",
    "#        }\n",
    "#    </style>"
   ]
  },
  {
   "cell_type": "code",
   "execution_count": null,
   "id": "d90c40e6",
   "metadata": {},
   "outputs": [],
   "source": [
    "# [16] How are active links different from normal links?\n",
    "\n",
    "# We can differentiate link by its color.\n",
    "# 1. Default(unvisited) link : Underlined & Blue color\n",
    "# 2. Visited link : Underlined & Purple color\n",
    "# 3. Active link : Underlined & Red color"
   ]
  },
  {
   "cell_type": "code",
   "execution_count": null,
   "id": "3b15f741",
   "metadata": {},
   "outputs": [],
   "source": [
    "# [17] What are the different tags to separate sections of text?\n",
    "\n",
    "# In HTML, mainly 3 tags are used to separate sections of text\n",
    "# 1. <br>\n",
    "# 2. <p>\n",
    "# 3. <blockquote>"
   ]
  },
  {
   "cell_type": "code",
   "execution_count": 7,
   "id": "89b89c85",
   "metadata": {},
   "outputs": [],
   "source": [
    "# [18] What is SVG?\n",
    "\n",
    "# SVG stands for Scalable Vector Graphics\n",
    "# SVG is used to set graphics in HTML structure.\n",
    "# Used to display 2D graphics, charts & illustrations on website."
   ]
  },
  {
   "cell_type": "code",
   "execution_count": null,
   "id": "67697d30",
   "metadata": {},
   "outputs": [],
   "source": [
    "# [19] What is difference between HTML and XHTML?\n",
    "\n",
    "# HTML:\n",
    "# Later version of HyperText Markup Language.\n",
    "# Much simple than XHTML\n",
    "# Closing tag can be omitted if required\n",
    "# Tags are used for header, footer, section, article, and ​nav, thus making it easier to write and read code\n",
    "# Not case-sensitive\n",
    "# Includes an API that enable the users to share their location\n",
    "# Is compatible with all browsers\n",
    "# More compatible with mobile devices — smartphones and tablets\n",
    "\n",
    "# XHTML:\n",
    "# Extensible HyperText Markup Language\n",
    "# More extensive doc\n",
    "# Every element should have the corresponding ending tag\n",
    "# No tags are used for header, footer, section, article, nav, and divs with classes; instead, ids have to be used\n",
    "# Is case-sensitive\n",
    "# Does not support any Geo-Location API\n",
    "# Internet Explorer 8 Browser does not support this\n",
    "# Better suited for desktop computers"
   ]
  },
  {
   "cell_type": "code",
   "execution_count": null,
   "id": "6e295144",
   "metadata": {},
   "outputs": [],
   "source": [
    "# [20] What are logical and physical tags in HTML?\n",
    "\n",
    "# Logical tags are used to tell the meaning of the enclosed text.\n",
    "# ex: <strong>...</strong>\n",
    "\n",
    "# Physical tags are used to tell the browser how to display the text enclosed in the physical tag. \n",
    "# ex: <b>, <big>, <i>"
   ]
  }
 ],
 "metadata": {
  "kernelspec": {
   "display_name": "Python 3 (ipykernel)",
   "language": "python",
   "name": "python3"
  },
  "language_info": {
   "codemirror_mode": {
    "name": "ipython",
    "version": 3
   },
   "file_extension": ".py",
   "mimetype": "text/x-python",
   "name": "python",
   "nbconvert_exporter": "python",
   "pygments_lexer": "ipython3",
   "version": "3.9.13"
  }
 },
 "nbformat": 4,
 "nbformat_minor": 5
}
